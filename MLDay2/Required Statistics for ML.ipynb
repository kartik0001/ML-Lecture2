{
 "cells": [
  {
   "cell_type": "code",
   "execution_count": 15,
   "metadata": {},
   "outputs": [
    {
     "name": "stdout",
     "output_type": "stream",
     "text": [
      "Array = [[0.27079425]\n",
      " [0.11783975]\n",
      " [0.81639969]\n",
      " [0.02740125]\n",
      " [0.7343228 ]\n",
      " [0.13638675]\n",
      " [0.81069966]\n",
      " [0.71426311]\n",
      " [0.48859813]\n",
      " [0.90638749]]\n",
      "Mean = 0.4750149466444011\n"
     ]
    }
   ],
   "source": [
    "'''Q1\n",
    "Create a numpy array with 10 elements of the shape(10,1) using np.random\n",
    "and find out the mean of the elements using basic numpy functions.\n",
    "'''\n",
    "\n",
    "import numpy as np\n",
    "arr= np.random.random((10,1))\n",
    "m= np.mean(w)\n",
    "print(\"Array = \"+str(arr))\n",
    "print(\"Mean = \"+ str(m))"
   ]
  },
  {
   "cell_type": "code",
   "execution_count": 16,
   "metadata": {},
   "outputs": [
    {
     "name": "stdout",
     "output_type": "stream",
     "text": [
      "Array = [[0.25941285]\n",
      " [0.35588049]\n",
      " [0.31314924]\n",
      " [0.5613569 ]\n",
      " [0.34521446]\n",
      " [0.67845257]\n",
      " [0.85149224]\n",
      " [0.11806047]\n",
      " [0.94093276]\n",
      " [0.17570435]\n",
      " [0.46730014]\n",
      " [0.24282205]\n",
      " [0.26209226]\n",
      " [0.76347498]\n",
      " [0.62330445]\n",
      " [0.6798119 ]\n",
      " [0.34969296]\n",
      " [0.28343432]\n",
      " [0.20549764]\n",
      " [0.19329977]]\n",
      "Standard Deviation = 0.23924982666001618\n",
      "Variance = 0.05724047955684779\n"
     ]
    }
   ],
   "source": [
    "'''Q2\n",
    "Create a numpy array with 20 elements of the shape(20,1) using np.random\n",
    "find the variance and standard deviation of the elements.\n",
    "'''\n",
    "\n",
    "arr= np.random.random((20,1))\n",
    "sd = np.std(arr)\n",
    "var = sd*sd;\n",
    "print(\"Array = \"+ str(arr))\n",
    "print(\"Standard Deviation = \"+ str(sd))\n",
    "print(\"Variance = \"+ str(var))"
   ]
  },
  {
   "cell_type": "code",
   "execution_count": 74,
   "metadata": {},
   "outputs": [
    {
     "name": "stdout",
     "output_type": "stream",
     "text": [
      "Shape of New Matrix:(10, 25)\n",
      "Sum of New Matrix Elements:120.49653462424077\n"
     ]
    }
   ],
   "source": [
    "'''Q3\n",
    " Create a numpy array A of shape(10,20) and B of shape (20,25) using np.random.\n",
    " Print the matrix which is the matrix multiplication of A and B. \n",
    " The shape of the new matrix should be (10,25).\n",
    " Using basic numpy math functions only find the sum of all the elements of the new matrix.\n",
    "'''\n",
    "\n",
    "a = np.random.random((10,20))\n",
    "b = np.random.random((20,25))\n",
    "c = np.dot(a,b)\n",
    "d = c.shape\n",
    "e = np.random.random(d)\n",
    "s = e.sum()\n",
    "print('Shape of New Matrix:'+str(d))\n",
    "print('Sum of New Matrix Elements:' + str(s))\n",
    "\n",
    "\n",
    "                   \n",
    "\n"
   ]
  },
  {
   "cell_type": "code",
   "execution_count": 71,
   "metadata": {},
   "outputs": [
    {
     "name": "stdout",
     "output_type": "stream",
     "text": [
      "Original Array = [[0.44055398]\n",
      " [0.43313895]\n",
      " [0.06329564]\n",
      " [0.97811272]\n",
      " [0.34740545]\n",
      " [0.01793323]\n",
      " [0.09488866]\n",
      " [0.39624564]\n",
      " [0.10879992]\n",
      " [0.78786224]]\n",
      "New Array = [[0.65903367]\n",
      " [0.6590368 ]\n",
      " [0.65903542]\n",
      " [0.65904319]\n",
      " [0.65903645]\n",
      " [0.65904663]\n",
      " [0.65905141]\n",
      " [0.65902896]\n",
      " [0.65905373]\n",
      " [0.65903089]\n",
      " [0.65904031]\n",
      " [0.65903312]\n",
      " [0.65903375]\n",
      " [0.65904902]\n",
      " [0.65904503]\n",
      " [0.65904667]\n",
      " [0.6590366 ]\n",
      " [0.65903445]\n",
      " [0.65903189]\n",
      " [0.65903148]]\n"
     ]
    }
   ],
   "source": [
    "'''Q4\n",
    "Create a numpy array A of shape(10,1).Using the basic operations of the numpy array generate an array of shape(10,1)\n",
    "such that each element is the following function applied on each element of A. \n",
    "\n",
    "f(x)=1 / (1 + exp(-x)) \n",
    "Apply this function to each element of A and print the new array holding the value the function returns\n",
    "Example:\n",
    "\n",
    "a=[a1,a2,a3]   \n",
    "n(new array to be printed )=[ f(a1), f(a2), f(a3)]\n",
    "'''\n",
    "\n",
    "a = np.random.random((10,1))\n",
    "print(\"Original Array = \"+ str(a))\n",
    "b = -1\n",
    "arr = 1/(1+np.exp(arr*b))\n",
    "print(\"New Array = \"+ str(arr))"
   ]
  },
  {
   "cell_type": "code",
   "execution_count": null,
   "metadata": {},
   "outputs": [],
   "source": []
  }
 ],
 "metadata": {
  "kernelspec": {
   "display_name": "Python 3",
   "language": "python",
   "name": "python3"
  },
  "language_info": {
   "codemirror_mode": {
    "name": "ipython",
    "version": 3
   },
   "file_extension": ".py",
   "mimetype": "text/x-python",
   "name": "python",
   "nbconvert_exporter": "python",
   "pygments_lexer": "ipython3",
   "version": "3.6.5"
  }
 },
 "nbformat": 4,
 "nbformat_minor": 2
}
